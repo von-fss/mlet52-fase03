{
 "cells": [
  {
   "cell_type": "markdown",
   "metadata": {},
   "source": [
    "# Load data"
   ]
  },
  {
   "cell_type": "code",
   "execution_count": 77,
   "metadata": {},
   "outputs": [
    {
     "data": {
      "text/html": [
       "<div>\n",
       "<style scoped>\n",
       "    .dataframe tbody tr th:only-of-type {\n",
       "        vertical-align: middle;\n",
       "    }\n",
       "\n",
       "    .dataframe tbody tr th {\n",
       "        vertical-align: top;\n",
       "    }\n",
       "\n",
       "    .dataframe thead th {\n",
       "        text-align: right;\n",
       "    }\n",
       "</style>\n",
       "<table border=\"1\" class=\"dataframe\">\n",
       "  <thead>\n",
       "    <tr style=\"text-align: right;\">\n",
       "      <th></th>\n",
       "      <th>data_pregao</th>\n",
       "      <th>fechamento</th>\n",
       "    </tr>\n",
       "  </thead>\n",
       "  <tbody>\n",
       "    <tr>\n",
       "      <th>0</th>\n",
       "      <td>2015-01-02</td>\n",
       "      <td>29.45</td>\n",
       "    </tr>\n",
       "    <tr>\n",
       "      <th>1</th>\n",
       "      <td>2015-01-02</td>\n",
       "      <td>12.55</td>\n",
       "    </tr>\n",
       "    <tr>\n",
       "      <th>4</th>\n",
       "      <td>2015-01-02</td>\n",
       "      <td>16.01</td>\n",
       "    </tr>\n",
       "    <tr>\n",
       "      <th>29</th>\n",
       "      <td>2015-01-02</td>\n",
       "      <td>10.91</td>\n",
       "    </tr>\n",
       "    <tr>\n",
       "      <th>32</th>\n",
       "      <td>2015-01-02</td>\n",
       "      <td>8.89</td>\n",
       "    </tr>\n",
       "    <tr>\n",
       "      <th>...</th>\n",
       "      <td>...</td>\n",
       "      <td>...</td>\n",
       "    </tr>\n",
       "    <tr>\n",
       "      <th>414161</th>\n",
       "      <td>2015-12-30</td>\n",
       "      <td>219.20</td>\n",
       "    </tr>\n",
       "    <tr>\n",
       "      <th>414163</th>\n",
       "      <td>2015-12-30</td>\n",
       "      <td>2.60</td>\n",
       "    </tr>\n",
       "    <tr>\n",
       "      <th>414164</th>\n",
       "      <td>2015-12-30</td>\n",
       "      <td>2.35</td>\n",
       "    </tr>\n",
       "    <tr>\n",
       "      <th>414166</th>\n",
       "      <td>2015-12-30</td>\n",
       "      <td>33.00</td>\n",
       "    </tr>\n",
       "    <tr>\n",
       "      <th>414174</th>\n",
       "      <td>2015-12-30</td>\n",
       "      <td>42.64</td>\n",
       "    </tr>\n",
       "  </tbody>\n",
       "</table>\n",
       "<p>77184 rows × 2 columns</p>\n",
       "</div>"
      ],
      "text/plain": [
       "       data_pregao  fechamento\n",
       "0       2015-01-02       29.45\n",
       "1       2015-01-02       12.55\n",
       "4       2015-01-02       16.01\n",
       "29      2015-01-02       10.91\n",
       "32      2015-01-02        8.89\n",
       "...            ...         ...\n",
       "414161  2015-12-30      219.20\n",
       "414163  2015-12-30        2.60\n",
       "414164  2015-12-30        2.35\n",
       "414166  2015-12-30       33.00\n",
       "414174  2015-12-30       42.64\n",
       "\n",
       "[77184 rows x 2 columns]"
      ]
     },
     "execution_count": 77,
     "metadata": {},
     "output_type": "execute_result"
    }
   ],
   "source": [
    "import pandas as pd\n",
    "import numpy as np\n",
    "from utils.currency_dataframe import CurrencyDataframe\n",
    "from utils.bovespa_dataframe import BovespaDataFrame\n",
    "from sklearn.preprocessing import StandardScaler\n",
    "\n",
    "from tensorflow.keras.models import Sequential\n",
    "from tensorflow.keras.layers import Dense, LSTM, Dropout, Input\n",
    "from importlib import reload \n",
    "\n",
    "import matplotlib.pyplot as plt\n",
    "\n",
    "b3File = r'..\\data\\COTAHIST_A2012.TXT'\n",
    "b3DF = BovespaDataFrame(b3File).get_dataframe()\n"
   ]
  },
  {
   "cell_type": "markdown",
   "metadata": {},
   "source": [
    "# Model based on PETR4 stock"
   ]
  },
  {
   "cell_type": "markdown",
   "metadata": {},
   "source": [
    "## PETR4 dataframe"
   ]
  },
  {
   "cell_type": "markdown",
   "metadata": {},
   "source": [
    "### Creating dataframe"
   ]
  },
  {
   "cell_type": "code",
   "execution_count": 78,
   "metadata": {},
   "outputs": [
    {
     "data": {
      "text/html": [
       "<div>\n",
       "<style scoped>\n",
       "    .dataframe tbody tr th:only-of-type {\n",
       "        vertical-align: middle;\n",
       "    }\n",
       "\n",
       "    .dataframe tbody tr th {\n",
       "        vertical-align: top;\n",
       "    }\n",
       "\n",
       "    .dataframe thead th {\n",
       "        text-align: right;\n",
       "    }\n",
       "</style>\n",
       "<table border=\"1\" class=\"dataframe\">\n",
       "  <thead>\n",
       "    <tr style=\"text-align: right;\">\n",
       "      <th></th>\n",
       "      <th>data_pregao</th>\n",
       "      <th>fechamento</th>\n",
       "    </tr>\n",
       "  </thead>\n",
       "  <tbody>\n",
       "    <tr>\n",
       "      <th>2015-01-02</th>\n",
       "      <td>2015-01-02</td>\n",
       "      <td>29.45</td>\n",
       "    </tr>\n",
       "    <tr>\n",
       "      <th>2015-01-02</th>\n",
       "      <td>2015-01-02</td>\n",
       "      <td>12.55</td>\n",
       "    </tr>\n",
       "    <tr>\n",
       "      <th>2015-01-02</th>\n",
       "      <td>2015-01-02</td>\n",
       "      <td>16.01</td>\n",
       "    </tr>\n",
       "    <tr>\n",
       "      <th>2015-01-02</th>\n",
       "      <td>2015-01-02</td>\n",
       "      <td>10.91</td>\n",
       "    </tr>\n",
       "    <tr>\n",
       "      <th>2015-01-02</th>\n",
       "      <td>2015-01-02</td>\n",
       "      <td>8.89</td>\n",
       "    </tr>\n",
       "  </tbody>\n",
       "</table>\n",
       "</div>"
      ],
      "text/plain": [
       "           data_pregao  fechamento\n",
       "2015-01-02  2015-01-02       29.45\n",
       "2015-01-02  2015-01-02       12.55\n",
       "2015-01-02  2015-01-02       16.01\n",
       "2015-01-02  2015-01-02       10.91\n",
       "2015-01-02  2015-01-02        8.89"
      ]
     },
     "execution_count": 78,
     "metadata": {},
     "output_type": "execute_result"
    }
   ],
   "source": [
    "df_petro = b3DF[ b3DF['sigla_acao'] == 'PETR4']\n",
    "#ajustar o index\n",
    "df_petro = df_petro.set_index(pd.DatetimeIndex(df_petro['data_pregao'].values))\n",
    "#retirar a coluna usada para o index\n",
    "df_petro.drop(['data_pregao', 'sigla_acao', 'nome_acao', 'qtd', ], inplace=True, axis=1)\n",
    "df_petro.head()"
   ]
  },
  {
   "cell_type": "markdown",
   "metadata": {},
   "source": [
    "### Data visualization"
   ]
  },
  {
   "cell_type": "code",
   "execution_count": 79,
   "metadata": {},
   "outputs": [
    {
     "data": {
      "text/plain": [
       "Text(0.5, 0, 'data')"
      ]
     },
     "execution_count": 79,
     "metadata": {},
     "output_type": "execute_result"
    },
    {
     "data": {
      "image/png": "[encoded data removed]",
      "text/plain": [
       "<Figure size 1600x800 with 1 Axes>"
      ]
     },
     "metadata": {},
     "output_type": "display_data"
    }
   ],
   "source": [
    "plt.figure(figsize=(16, 8))\n",
    "plt.title('Preco da Petro')\n",
    "plt.plot(df_petro['fechamento'])\n",
    "plt.xlabel('data')"
   ]
  },
  {
   "cell_type": "code",
   "execution_count": 80,
   "metadata": {},
   "outputs": [],
   "source": [
    "qtd_linhas = len(df_petro)\n",
    "qtd_linhas_treino = round(.70 * qtd_linhas)\n",
    "qtd_linhas_teste = qtd_linhas - qtd_linhas_treino\n",
    "\n",
    "info = {\n",
    "    f\"linhas treino = 0:{qtd_linhas_treino}\"\n",
    "    f\" linhas teste = {qtd_linhas_treino}:{qtd_linhas_treino + qtd_linhas_teste}\"\n",
    "}\n",
    "\n"
   ]
  },
  {
   "cell_type": "code",
   "execution_count": 81,
   "metadata": {},
   "outputs": [
    {
     "ename": "DTypePromotionError",
     "evalue": "The DType <class 'numpy.dtypes.DateTime64DType'> could not be promoted by <class 'numpy.dtypes.Float64DType'>. This means that no common DType exists for the given inputs. For example they cannot be stored in a single array unless the dtype is `object`. The full list of DTypes is: (<class 'numpy.dtypes.DateTime64DType'>, <class 'numpy.dtypes.Float64DType'>)",
     "output_type": "error",
     "traceback": [
      "\u001b[1;31m---------------------------------------------------------------------------\u001b[0m",
      "\u001b[1;31mDTypePromotionError\u001b[0m                       Traceback (most recent call last)",
      "Cell \u001b[1;32mIn[81], line 3\u001b[0m\n\u001b[0;32m      1\u001b[0m \u001b[38;5;66;03m#normalizando os dados\u001b[39;00m\n\u001b[0;32m      2\u001b[0m scaler \u001b[38;5;241m=\u001b[39m StandardScaler()\n\u001b[1;32m----> 3\u001b[0m df_scaler \u001b[38;5;241m=\u001b[39m \u001b[43mscaler\u001b[49m\u001b[38;5;241;43m.\u001b[39;49m\u001b[43mfit_transform\u001b[49m\u001b[43m(\u001b[49m\u001b[43mdf_petro\u001b[49m\u001b[43m)\u001b[49m\n",
      "File \u001b[1;32mc:\\Users\\kassi\\source\\repos\\mlet52-fase03\\env\\lib\\site-packages\\sklearn\\utils\\_set_output.py:316\u001b[0m, in \u001b[0;36m_wrap_method_output.<locals>.wrapped\u001b[1;34m(self, X, *args, **kwargs)\u001b[0m\n\u001b[0;32m    314\u001b[0m \u001b[38;5;129m@wraps\u001b[39m(f)\n\u001b[0;32m    315\u001b[0m \u001b[38;5;28;01mdef\u001b[39;00m \u001b[38;5;21mwrapped\u001b[39m(\u001b[38;5;28mself\u001b[39m, X, \u001b[38;5;241m*\u001b[39margs, \u001b[38;5;241m*\u001b[39m\u001b[38;5;241m*\u001b[39mkwargs):\n\u001b[1;32m--> 316\u001b[0m     data_to_wrap \u001b[38;5;241m=\u001b[39m f(\u001b[38;5;28mself\u001b[39m, X, \u001b[38;5;241m*\u001b[39margs, \u001b[38;5;241m*\u001b[39m\u001b[38;5;241m*\u001b[39mkwargs)\n\u001b[0;32m    317\u001b[0m     \u001b[38;5;28;01mif\u001b[39;00m \u001b[38;5;28misinstance\u001b[39m(data_to_wrap, \u001b[38;5;28mtuple\u001b[39m):\n\u001b[0;32m    318\u001b[0m         \u001b[38;5;66;03m# only wrap the first output for cross decomposition\u001b[39;00m\n\u001b[0;32m    319\u001b[0m         return_tuple \u001b[38;5;241m=\u001b[39m (\n\u001b[0;32m    320\u001b[0m             _wrap_data_with_container(method, data_to_wrap[\u001b[38;5;241m0\u001b[39m], X, \u001b[38;5;28mself\u001b[39m),\n\u001b[0;32m    321\u001b[0m             \u001b[38;5;241m*\u001b[39mdata_to_wrap[\u001b[38;5;241m1\u001b[39m:],\n\u001b[0;32m    322\u001b[0m         )\n",
      "File \u001b[1;32mc:\\Users\\kassi\\source\\repos\\mlet52-fase03\\env\\lib\\site-packages\\sklearn\\base.py:1098\u001b[0m, in \u001b[0;36mTransformerMixin.fit_transform\u001b[1;34m(self, X, y, **fit_params)\u001b[0m\n\u001b[0;32m   1083\u001b[0m         warnings\u001b[38;5;241m.\u001b[39mwarn(\n\u001b[0;32m   1084\u001b[0m             (\n\u001b[0;32m   1085\u001b[0m                 \u001b[38;5;124mf\u001b[39m\u001b[38;5;124m\"\u001b[39m\u001b[38;5;124mThis object (\u001b[39m\u001b[38;5;132;01m{\u001b[39;00m\u001b[38;5;28mself\u001b[39m\u001b[38;5;241m.\u001b[39m\u001b[38;5;18m__class__\u001b[39m\u001b[38;5;241m.\u001b[39m\u001b[38;5;18m__name__\u001b[39m\u001b[38;5;132;01m}\u001b[39;00m\u001b[38;5;124m) has a `transform`\u001b[39m\u001b[38;5;124m\"\u001b[39m\n\u001b[1;32m   (...)\u001b[0m\n\u001b[0;32m   1093\u001b[0m             \u001b[38;5;167;01mUserWarning\u001b[39;00m,\n\u001b[0;32m   1094\u001b[0m         )\n\u001b[0;32m   1096\u001b[0m \u001b[38;5;28;01mif\u001b[39;00m y \u001b[38;5;129;01mis\u001b[39;00m \u001b[38;5;28;01mNone\u001b[39;00m:\n\u001b[0;32m   1097\u001b[0m     \u001b[38;5;66;03m# fit method of arity 1 (unsupervised transformation)\u001b[39;00m\n\u001b[1;32m-> 1098\u001b[0m     \u001b[38;5;28;01mreturn\u001b[39;00m \u001b[38;5;28mself\u001b[39m\u001b[38;5;241m.\u001b[39mfit(X, \u001b[38;5;241m*\u001b[39m\u001b[38;5;241m*\u001b[39mfit_params)\u001b[38;5;241m.\u001b[39mtransform(X)\n\u001b[0;32m   1099\u001b[0m \u001b[38;5;28;01melse\u001b[39;00m:\n\u001b[0;32m   1100\u001b[0m     \u001b[38;5;66;03m# fit method of arity 2 (supervised transformation)\u001b[39;00m\n\u001b[0;32m   1101\u001b[0m     \u001b[38;5;28;01mreturn\u001b[39;00m \u001b[38;5;28mself\u001b[39m\u001b[38;5;241m.\u001b[39mfit(X, y, \u001b[38;5;241m*\u001b[39m\u001b[38;5;241m*\u001b[39mfit_params)\u001b[38;5;241m.\u001b[39mtransform(X)\n",
      "File \u001b[1;32mc:\\Users\\kassi\\source\\repos\\mlet52-fase03\\env\\lib\\site-packages\\sklearn\\preprocessing\\_data.py:878\u001b[0m, in \u001b[0;36mStandardScaler.fit\u001b[1;34m(self, X, y, sample_weight)\u001b[0m\n\u001b[0;32m    876\u001b[0m \u001b[38;5;66;03m# Reset internal state before fitting\u001b[39;00m\n\u001b[0;32m    877\u001b[0m \u001b[38;5;28mself\u001b[39m\u001b[38;5;241m.\u001b[39m_reset()\n\u001b[1;32m--> 878\u001b[0m \u001b[38;5;28;01mreturn\u001b[39;00m \u001b[38;5;28;43mself\u001b[39;49m\u001b[38;5;241;43m.\u001b[39;49m\u001b[43mpartial_fit\u001b[49m\u001b[43m(\u001b[49m\u001b[43mX\u001b[49m\u001b[43m,\u001b[49m\u001b[43m \u001b[49m\u001b[43my\u001b[49m\u001b[43m,\u001b[49m\u001b[43m \u001b[49m\u001b[43msample_weight\u001b[49m\u001b[43m)\u001b[49m\n",
      "File \u001b[1;32mc:\\Users\\kassi\\source\\repos\\mlet52-fase03\\env\\lib\\site-packages\\sklearn\\base.py:1473\u001b[0m, in \u001b[0;36m_fit_context.<locals>.decorator.<locals>.wrapper\u001b[1;34m(estimator, *args, **kwargs)\u001b[0m\n\u001b[0;32m   1466\u001b[0m     estimator\u001b[38;5;241m.\u001b[39m_validate_params()\n\u001b[0;32m   1468\u001b[0m \u001b[38;5;28;01mwith\u001b[39;00m config_context(\n\u001b[0;32m   1469\u001b[0m     skip_parameter_validation\u001b[38;5;241m=\u001b[39m(\n\u001b[0;32m   1470\u001b[0m         prefer_skip_nested_validation \u001b[38;5;129;01mor\u001b[39;00m global_skip_validation\n\u001b[0;32m   1471\u001b[0m     )\n\u001b[0;32m   1472\u001b[0m ):\n\u001b[1;32m-> 1473\u001b[0m     \u001b[38;5;28;01mreturn\u001b[39;00m fit_method(estimator, \u001b[38;5;241m*\u001b[39margs, \u001b[38;5;241m*\u001b[39m\u001b[38;5;241m*\u001b[39mkwargs)\n",
      "File \u001b[1;32mc:\\Users\\kassi\\source\\repos\\mlet52-fase03\\env\\lib\\site-packages\\sklearn\\preprocessing\\_data.py:914\u001b[0m, in \u001b[0;36mStandardScaler.partial_fit\u001b[1;34m(self, X, y, sample_weight)\u001b[0m\n\u001b[0;32m    882\u001b[0m \u001b[38;5;250m\u001b[39m\u001b[38;5;124;03m\"\"\"Online computation of mean and std on X for later scaling.\u001b[39;00m\n\u001b[0;32m    883\u001b[0m \n\u001b[0;32m    884\u001b[0m \u001b[38;5;124;03mAll of X is processed as a single batch. This is intended for cases\u001b[39;00m\n\u001b[1;32m   (...)\u001b[0m\n\u001b[0;32m    911\u001b[0m \u001b[38;5;124;03m    Fitted scaler.\u001b[39;00m\n\u001b[0;32m    912\u001b[0m \u001b[38;5;124;03m\"\"\"\u001b[39;00m\n\u001b[0;32m    913\u001b[0m first_call \u001b[38;5;241m=\u001b[39m \u001b[38;5;129;01mnot\u001b[39;00m \u001b[38;5;28mhasattr\u001b[39m(\u001b[38;5;28mself\u001b[39m, \u001b[38;5;124m\"\u001b[39m\u001b[38;5;124mn_samples_seen_\u001b[39m\u001b[38;5;124m\"\u001b[39m)\n\u001b[1;32m--> 914\u001b[0m X \u001b[38;5;241m=\u001b[39m \u001b[38;5;28;43mself\u001b[39;49m\u001b[38;5;241;43m.\u001b[39;49m\u001b[43m_validate_data\u001b[49m\u001b[43m(\u001b[49m\n\u001b[0;32m    915\u001b[0m \u001b[43m    \u001b[49m\u001b[43mX\u001b[49m\u001b[43m,\u001b[49m\n\u001b[0;32m    916\u001b[0m \u001b[43m    \u001b[49m\u001b[43maccept_sparse\u001b[49m\u001b[38;5;241;43m=\u001b[39;49m\u001b[43m(\u001b[49m\u001b[38;5;124;43m\"\u001b[39;49m\u001b[38;5;124;43mcsr\u001b[39;49m\u001b[38;5;124;43m\"\u001b[39;49m\u001b[43m,\u001b[49m\u001b[43m \u001b[49m\u001b[38;5;124;43m\"\u001b[39;49m\u001b[38;5;124;43mcsc\u001b[39;49m\u001b[38;5;124;43m\"\u001b[39;49m\u001b[43m)\u001b[49m\u001b[43m,\u001b[49m\n\u001b[0;32m    917\u001b[0m \u001b[43m    \u001b[49m\u001b[43mdtype\u001b[49m\u001b[38;5;241;43m=\u001b[39;49m\u001b[43mFLOAT_DTYPES\u001b[49m\u001b[43m,\u001b[49m\n\u001b[0;32m    918\u001b[0m \u001b[43m    \u001b[49m\u001b[43mforce_all_finite\u001b[49m\u001b[38;5;241;43m=\u001b[39;49m\u001b[38;5;124;43m\"\u001b[39;49m\u001b[38;5;124;43mallow-nan\u001b[39;49m\u001b[38;5;124;43m\"\u001b[39;49m\u001b[43m,\u001b[49m\n\u001b[0;32m    919\u001b[0m \u001b[43m    \u001b[49m\u001b[43mreset\u001b[49m\u001b[38;5;241;43m=\u001b[39;49m\u001b[43mfirst_call\u001b[49m\u001b[43m,\u001b[49m\n\u001b[0;32m    920\u001b[0m \u001b[43m\u001b[49m\u001b[43m)\u001b[49m\n\u001b[0;32m    921\u001b[0m n_features \u001b[38;5;241m=\u001b[39m X\u001b[38;5;241m.\u001b[39mshape[\u001b[38;5;241m1\u001b[39m]\n\u001b[0;32m    923\u001b[0m \u001b[38;5;28;01mif\u001b[39;00m sample_weight \u001b[38;5;129;01mis\u001b[39;00m \u001b[38;5;129;01mnot\u001b[39;00m \u001b[38;5;28;01mNone\u001b[39;00m:\n",
      "File \u001b[1;32mc:\\Users\\kassi\\source\\repos\\mlet52-fase03\\env\\lib\\site-packages\\sklearn\\base.py:633\u001b[0m, in \u001b[0;36mBaseEstimator._validate_data\u001b[1;34m(self, X, y, reset, validate_separately, cast_to_ndarray, **check_params)\u001b[0m\n\u001b[0;32m    631\u001b[0m         out \u001b[38;5;241m=\u001b[39m X, y\n\u001b[0;32m    632\u001b[0m \u001b[38;5;28;01melif\u001b[39;00m \u001b[38;5;129;01mnot\u001b[39;00m no_val_X \u001b[38;5;129;01mand\u001b[39;00m no_val_y:\n\u001b[1;32m--> 633\u001b[0m     out \u001b[38;5;241m=\u001b[39m check_array(X, input_name\u001b[38;5;241m=\u001b[39m\u001b[38;5;124m\"\u001b[39m\u001b[38;5;124mX\u001b[39m\u001b[38;5;124m\"\u001b[39m, \u001b[38;5;241m*\u001b[39m\u001b[38;5;241m*\u001b[39mcheck_params)\n\u001b[0;32m    634\u001b[0m \u001b[38;5;28;01melif\u001b[39;00m no_val_X \u001b[38;5;129;01mand\u001b[39;00m \u001b[38;5;129;01mnot\u001b[39;00m no_val_y:\n\u001b[0;32m    635\u001b[0m     out \u001b[38;5;241m=\u001b[39m _check_y(y, \u001b[38;5;241m*\u001b[39m\u001b[38;5;241m*\u001b[39mcheck_params)\n",
      "File \u001b[1;32mc:\\Users\\kassi\\source\\repos\\mlet52-fase03\\env\\lib\\site-packages\\sklearn\\utils\\validation.py:887\u001b[0m, in \u001b[0;36mcheck_array\u001b[1;34m(array, accept_sparse, accept_large_sparse, dtype, order, copy, force_writeable, force_all_finite, ensure_2d, allow_nd, ensure_min_samples, ensure_min_features, estimator, input_name)\u001b[0m\n\u001b[0;32m    883\u001b[0m pandas_requires_conversion \u001b[38;5;241m=\u001b[39m \u001b[38;5;28many\u001b[39m(\n\u001b[0;32m    884\u001b[0m     _pandas_dtype_needs_early_conversion(i) \u001b[38;5;28;01mfor\u001b[39;00m i \u001b[38;5;129;01min\u001b[39;00m dtypes_orig\n\u001b[0;32m    885\u001b[0m )\n\u001b[0;32m    886\u001b[0m \u001b[38;5;28;01mif\u001b[39;00m \u001b[38;5;28mall\u001b[39m(\u001b[38;5;28misinstance\u001b[39m(dtype_iter, np\u001b[38;5;241m.\u001b[39mdtype) \u001b[38;5;28;01mfor\u001b[39;00m dtype_iter \u001b[38;5;129;01min\u001b[39;00m dtypes_orig):\n\u001b[1;32m--> 887\u001b[0m     dtype_orig \u001b[38;5;241m=\u001b[39m \u001b[43mnp\u001b[49m\u001b[38;5;241;43m.\u001b[39;49m\u001b[43mresult_type\u001b[49m\u001b[43m(\u001b[49m\u001b[38;5;241;43m*\u001b[39;49m\u001b[43mdtypes_orig\u001b[49m\u001b[43m)\u001b[49m\n\u001b[0;32m    888\u001b[0m \u001b[38;5;28;01melif\u001b[39;00m pandas_requires_conversion \u001b[38;5;129;01mand\u001b[39;00m \u001b[38;5;28many\u001b[39m(d \u001b[38;5;241m==\u001b[39m \u001b[38;5;28mobject\u001b[39m \u001b[38;5;28;01mfor\u001b[39;00m d \u001b[38;5;129;01min\u001b[39;00m dtypes_orig):\n\u001b[0;32m    889\u001b[0m     \u001b[38;5;66;03m# Force object if any of the dtypes is an object\u001b[39;00m\n\u001b[0;32m    890\u001b[0m     dtype_orig \u001b[38;5;241m=\u001b[39m \u001b[38;5;28mobject\u001b[39m\n",
      "\u001b[1;31mDTypePromotionError\u001b[0m: The DType <class 'numpy.dtypes.DateTime64DType'> could not be promoted by <class 'numpy.dtypes.Float64DType'>. This means that no common DType exists for the given inputs. For example they cannot be stored in a single array unless the dtype is `object`. The full list of DTypes is: (<class 'numpy.dtypes.DateTime64DType'>, <class 'numpy.dtypes.Float64DType'>)"
     ]
    }
   ],
   "source": [
    "#normalizando os dados\n",
    "scaler = StandardScaler()\n",
    "df_scaler = scaler.fit_transform(df_petro)"
   ]
  },
  {
   "cell_type": "code",
   "execution_count": 41,
   "metadata": {},
   "outputs": [
    {
     "name": "stdout",
     "output_type": "stream",
     "text": [
      "172 74\n"
     ]
    }
   ],
   "source": [
    "#separa em treino e teste\n",
    "train = df_scaler[:qtd_linhas_treino]\n",
    "test = df_scaler[qtd_linhas_treino:qtd_linhas_treino + qtd_linhas_teste]\n",
    "print(len(train), len(test))"
   ]
  },
  {
   "cell_type": "code",
   "execution_count": 42,
   "metadata": {},
   "outputs": [],
   "source": [
    "# convert an array of values into a df matrix\n",
    "def create_df(df, steps=1):\n",
    "    dataX, dataY = [], []\n",
    "    for i in range(len(df)-steps-1):\n",
    "        a = df[i:(i+steps), 0]\n",
    "        dataX.append(a)\n",
    "        dataY.append(df[i + steps, 0])\n",
    "    return np.array(dataX), np.array(dataY)"
   ]
  },
  {
   "cell_type": "code",
   "execution_count": 43,
   "metadata": {},
   "outputs": [
    {
     "name": "stdout",
     "output_type": "stream",
     "text": [
      "(156, 15)\n",
      "(156,)\n",
      "(58, 15)\n",
      "(58,)\n"
     ]
    }
   ],
   "source": [
    "#gerenciando dados de treino e teste\n",
    "steps = 15\n",
    "X_train, Y_train = create_df(train, steps)\n",
    "X_test, Y_test = create_df(test, steps)\n",
    "\n",
    "print(X_train.shape)\n",
    "print(Y_train.shape)\n",
    "print(X_test.shape)\n",
    "print(Y_test.shape)"
   ]
  },
  {
   "cell_type": "code",
   "execution_count": 44,
   "metadata": {},
   "outputs": [],
   "source": [
    "#gerando os dados que o modelo espera\n",
    "X_train = X_train.reshape(X_train.shape[0], X_train.shape[1], 1)\n",
    "X_test = X_test.reshape(X_test.shape[0], X_test.shape[1], 1)"
   ]
  },
  {
   "cell_type": "code",
   "execution_count": 45,
   "metadata": {},
   "outputs": [
    {
     "data": {
      "text/html": [
       "<pre style=\"white-space:pre;overflow-x:auto;line-height:normal;font-family:Menlo,'DejaVu Sans Mono',consolas,'Courier New',monospace\"><span style=\"font-weight: bold\">Model: \"sequential_5\"</span>\n",
       "</pre>\n"
      ],
      "text/plain": [
       "\u001b[1mModel: \"sequential_5\"\u001b[0m\n"
      ]
     },
     "metadata": {},
     "output_type": "display_data"
    },
    {
     "data": {
      "text/html": [
       "<pre style=\"white-space:pre;overflow-x:auto;line-height:normal;font-family:Menlo,'DejaVu Sans Mono',consolas,'Courier New',monospace\">┏━━━━━━━━━━━━━━━━━━━━━━━━━━━━━━━━━┳━━━━━━━━━━━━━━━━━━━━━━━━┳━━━━━━━━━━━━━━━┓\n",
       "┃<span style=\"font-weight: bold\"> Layer (type)                    </span>┃<span style=\"font-weight: bold\"> Output Shape           </span>┃<span style=\"font-weight: bold\">       Param # </span>┃\n",
       "┡━━━━━━━━━━━━━━━━━━━━━━━━━━━━━━━━━╇━━━━━━━━━━━━━━━━━━━━━━━━╇━━━━━━━━━━━━━━━┩\n",
       "│ lstm_9 (<span style=\"color: #0087ff; text-decoration-color: #0087ff\">LSTM</span>)                   │ (<span style=\"color: #00d7ff; text-decoration-color: #00d7ff\">None</span>, <span style=\"color: #00af00; text-decoration-color: #00af00\">15</span>, <span style=\"color: #00af00; text-decoration-color: #00af00\">35</span>)         │         <span style=\"color: #00af00; text-decoration-color: #00af00\">5,180</span> │\n",
       "├─────────────────────────────────┼────────────────────────┼───────────────┤\n",
       "│ lstm_10 (<span style=\"color: #0087ff; text-decoration-color: #0087ff\">LSTM</span>)                  │ (<span style=\"color: #00d7ff; text-decoration-color: #00d7ff\">None</span>, <span style=\"color: #00af00; text-decoration-color: #00af00\">15</span>, <span style=\"color: #00af00; text-decoration-color: #00af00\">35</span>)         │         <span style=\"color: #00af00; text-decoration-color: #00af00\">9,940</span> │\n",
       "├─────────────────────────────────┼────────────────────────┼───────────────┤\n",
       "│ lstm_11 (<span style=\"color: #0087ff; text-decoration-color: #0087ff\">LSTM</span>)                  │ (<span style=\"color: #00d7ff; text-decoration-color: #00d7ff\">None</span>, <span style=\"color: #00af00; text-decoration-color: #00af00\">35</span>)             │         <span style=\"color: #00af00; text-decoration-color: #00af00\">9,940</span> │\n",
       "├─────────────────────────────────┼────────────────────────┼───────────────┤\n",
       "│ dropout_3 (<span style=\"color: #0087ff; text-decoration-color: #0087ff\">Dropout</span>)             │ (<span style=\"color: #00d7ff; text-decoration-color: #00d7ff\">None</span>, <span style=\"color: #00af00; text-decoration-color: #00af00\">35</span>)             │             <span style=\"color: #00af00; text-decoration-color: #00af00\">0</span> │\n",
       "├─────────────────────────────────┼────────────────────────┼───────────────┤\n",
       "│ dense_3 (<span style=\"color: #0087ff; text-decoration-color: #0087ff\">Dense</span>)                 │ (<span style=\"color: #00d7ff; text-decoration-color: #00d7ff\">None</span>, <span style=\"color: #00af00; text-decoration-color: #00af00\">1</span>)              │            <span style=\"color: #00af00; text-decoration-color: #00af00\">36</span> │\n",
       "└─────────────────────────────────┴────────────────────────┴───────────────┘\n",
       "</pre>\n"
      ],
      "text/plain": [
       "┏━━━━━━━━━━━━━━━━━━━━━━━━━━━━━━━━━┳━━━━━━━━━━━━━━━━━━━━━━━━┳━━━━━━━━━━━━━━━┓\n",
       "┃\u001b[1m \u001b[0m\u001b[1mLayer (type)                   \u001b[0m\u001b[1m \u001b[0m┃\u001b[1m \u001b[0m\u001b[1mOutput Shape          \u001b[0m\u001b[1m \u001b[0m┃\u001b[1m \u001b[0m\u001b[1m      Param #\u001b[0m\u001b[1m \u001b[0m┃\n",
       "┡━━━━━━━━━━━━━━━━━━━━━━━━━━━━━━━━━╇━━━━━━━━━━━━━━━━━━━━━━━━╇━━━━━━━━━━━━━━━┩\n",
       "│ lstm_9 (\u001b[38;5;33mLSTM\u001b[0m)                   │ (\u001b[38;5;45mNone\u001b[0m, \u001b[38;5;34m15\u001b[0m, \u001b[38;5;34m35\u001b[0m)         │         \u001b[38;5;34m5,180\u001b[0m │\n",
       "├─────────────────────────────────┼────────────────────────┼───────────────┤\n",
       "│ lstm_10 (\u001b[38;5;33mLSTM\u001b[0m)                  │ (\u001b[38;5;45mNone\u001b[0m, \u001b[38;5;34m15\u001b[0m, \u001b[38;5;34m35\u001b[0m)         │         \u001b[38;5;34m9,940\u001b[0m │\n",
       "├─────────────────────────────────┼────────────────────────┼───────────────┤\n",
       "│ lstm_11 (\u001b[38;5;33mLSTM\u001b[0m)                  │ (\u001b[38;5;45mNone\u001b[0m, \u001b[38;5;34m35\u001b[0m)             │         \u001b[38;5;34m9,940\u001b[0m │\n",
       "├─────────────────────────────────┼────────────────────────┼───────────────┤\n",
       "│ dropout_3 (\u001b[38;5;33mDropout\u001b[0m)             │ (\u001b[38;5;45mNone\u001b[0m, \u001b[38;5;34m35\u001b[0m)             │             \u001b[38;5;34m0\u001b[0m │\n",
       "├─────────────────────────────────┼────────────────────────┼───────────────┤\n",
       "│ dense_3 (\u001b[38;5;33mDense\u001b[0m)                 │ (\u001b[38;5;45mNone\u001b[0m, \u001b[38;5;34m1\u001b[0m)              │            \u001b[38;5;34m36\u001b[0m │\n",
       "└─────────────────────────────────┴────────────────────────┴───────────────┘\n"
      ]
     },
     "metadata": {},
     "output_type": "display_data"
    },
    {
     "data": {
      "text/html": [
       "<pre style=\"white-space:pre;overflow-x:auto;line-height:normal;font-family:Menlo,'DejaVu Sans Mono',consolas,'Courier New',monospace\"><span style=\"font-weight: bold\"> Total params: </span><span style=\"color: #00af00; text-decoration-color: #00af00\">25,096</span> (98.03 KB)\n",
       "</pre>\n"
      ],
      "text/plain": [
       "\u001b[1m Total params: \u001b[0m\u001b[38;5;34m25,096\u001b[0m (98.03 KB)\n"
      ]
     },
     "metadata": {},
     "output_type": "display_data"
    },
    {
     "data": {
      "text/html": [
       "<pre style=\"white-space:pre;overflow-x:auto;line-height:normal;font-family:Menlo,'DejaVu Sans Mono',consolas,'Courier New',monospace\"><span style=\"font-weight: bold\"> Trainable params: </span><span style=\"color: #00af00; text-decoration-color: #00af00\">25,096</span> (98.03 KB)\n",
       "</pre>\n"
      ],
      "text/plain": [
       "\u001b[1m Trainable params: \u001b[0m\u001b[38;5;34m25,096\u001b[0m (98.03 KB)\n"
      ]
     },
     "metadata": {},
     "output_type": "display_data"
    },
    {
     "data": {
      "text/html": [
       "<pre style=\"white-space:pre;overflow-x:auto;line-height:normal;font-family:Menlo,'DejaVu Sans Mono',consolas,'Courier New',monospace\"><span style=\"font-weight: bold\"> Non-trainable params: </span><span style=\"color: #00af00; text-decoration-color: #00af00\">0</span> (0.00 B)\n",
       "</pre>\n"
      ],
      "text/plain": [
       "\u001b[1m Non-trainable params: \u001b[0m\u001b[38;5;34m0\u001b[0m (0.00 B)\n"
      ]
     },
     "metadata": {},
     "output_type": "display_data"
    }
   ],
   "source": [
    "#Montando a rede\n",
    "model = Sequential()\n",
    "model.add(Input(shape=(steps, 1)))\n",
    "model.add(LSTM(35, return_sequences=True))\n",
    "model.add(LSTM(35, return_sequences=True))\n",
    "model.add(LSTM(35))\n",
    "model.add(Dropout(0.2))\n",
    "model.add(Dense(1))\n",
    "\n",
    "model.compile(optimizer='adam', loss='mse')\n",
    "model.summary()"
   ]
  },
  {
   "cell_type": "code",
   "execution_count": 46,
   "metadata": {},
   "outputs": [
    {
     "name": "stdout",
     "output_type": "stream",
     "text": [
      "Epoch 1/100\n",
      "11/11 - 6s - 519ms/step - loss: 0.8927 - val_loss: 0.2503\n",
      "Epoch 2/100\n",
      "11/11 - 0s - 15ms/step - loss: 0.3031 - val_loss: 0.3184\n",
      "Epoch 3/100\n",
      "11/11 - 0s - 16ms/step - loss: 0.2548 - val_loss: 0.1822\n",
      "Epoch 4/100\n",
      "11/11 - 0s - 15ms/step - loss: 0.2397 - val_loss: 0.2033\n",
      "Epoch 5/100\n",
      "11/11 - 0s - 14ms/step - loss: 0.2150 - val_loss: 0.1783\n",
      "Epoch 6/100\n",
      "11/11 - 0s - 17ms/step - loss: 0.2249 - val_loss: 0.1584\n",
      "Epoch 7/100\n",
      "11/11 - 0s - 14ms/step - loss: 0.2375 - val_loss: 0.1607\n",
      "Epoch 8/100\n",
      "11/11 - 0s - 17ms/step - loss: 0.1964 - val_loss: 0.1469\n",
      "Epoch 9/100\n",
      "11/11 - 0s - 14ms/step - loss: 0.1922 - val_loss: 0.1370\n",
      "Epoch 10/100\n",
      "11/11 - 0s - 14ms/step - loss: 0.1808 - val_loss: 0.1302\n",
      "Epoch 11/100\n",
      "11/11 - 0s - 15ms/step - loss: 0.1647 - val_loss: 0.1369\n",
      "Epoch 12/100\n",
      "11/11 - 0s - 15ms/step - loss: 0.1754 - val_loss: 0.1228\n",
      "Epoch 13/100\n",
      "11/11 - 0s - 19ms/step - loss: 0.1611 - val_loss: 0.1240\n",
      "Epoch 14/100\n",
      "11/11 - 0s - 14ms/step - loss: 0.1535 - val_loss: 0.1134\n",
      "Epoch 15/100\n",
      "11/11 - 0s - 15ms/step - loss: 0.1433 - val_loss: 0.1076\n",
      "Epoch 16/100\n",
      "11/11 - 0s - 14ms/step - loss: 0.1745 - val_loss: 0.1296\n",
      "Epoch 17/100\n",
      "11/11 - 0s - 16ms/step - loss: 0.1602 - val_loss: 0.1076\n",
      "Epoch 18/100\n",
      "11/11 - 0s - 15ms/step - loss: 0.1561 - val_loss: 0.1116\n",
      "Epoch 19/100\n",
      "11/11 - 0s - 14ms/step - loss: 0.1520 - val_loss: 0.0999\n",
      "Epoch 20/100\n",
      "11/11 - 0s - 14ms/step - loss: 0.1426 - val_loss: 0.0985\n",
      "Epoch 21/100\n",
      "11/11 - 0s - 14ms/step - loss: 0.1398 - val_loss: 0.1147\n",
      "Epoch 22/100\n",
      "11/11 - 0s - 15ms/step - loss: 0.1400 - val_loss: 0.0927\n",
      "Epoch 23/100\n",
      "11/11 - 0s - 14ms/step - loss: 0.1384 - val_loss: 0.0991\n",
      "Epoch 24/100\n",
      "11/11 - 0s - 16ms/step - loss: 0.1270 - val_loss: 0.0870\n",
      "Epoch 25/100\n",
      "11/11 - 0s - 15ms/step - loss: 0.1295 - val_loss: 0.0912\n",
      "Epoch 26/100\n",
      "11/11 - 0s - 16ms/step - loss: 0.1335 - val_loss: 0.0842\n",
      "Epoch 27/100\n",
      "11/11 - 0s - 16ms/step - loss: 0.1223 - val_loss: 0.0838\n",
      "Epoch 28/100\n",
      "11/11 - 0s - 14ms/step - loss: 0.1533 - val_loss: 0.1020\n",
      "Epoch 29/100\n",
      "11/11 - 0s - 17ms/step - loss: 0.1524 - val_loss: 0.0881\n",
      "Epoch 30/100\n",
      "11/11 - 0s - 20ms/step - loss: 0.1275 - val_loss: 0.0782\n",
      "Epoch 31/100\n",
      "11/11 - 0s - 15ms/step - loss: 0.1342 - val_loss: 0.0881\n",
      "Epoch 32/100\n",
      "11/11 - 0s - 15ms/step - loss: 0.1324 - val_loss: 0.0791\n",
      "Epoch 33/100\n",
      "11/11 - 0s - 14ms/step - loss: 0.1346 - val_loss: 0.0813\n",
      "Epoch 34/100\n",
      "11/11 - 0s - 13ms/step - loss: 0.1351 - val_loss: 0.0814\n",
      "Epoch 35/100\n",
      "11/11 - 0s - 15ms/step - loss: 0.1275 - val_loss: 0.0802\n",
      "Epoch 36/100\n",
      "11/11 - 0s - 16ms/step - loss: 0.1270 - val_loss: 0.0792\n",
      "Epoch 37/100\n",
      "11/11 - 0s - 19ms/step - loss: 0.1158 - val_loss: 0.0747\n",
      "Epoch 38/100\n",
      "11/11 - 0s - 14ms/step - loss: 0.1195 - val_loss: 0.0775\n",
      "Epoch 39/100\n",
      "11/11 - 0s - 14ms/step - loss: 0.1150 - val_loss: 0.0767\n",
      "Epoch 40/100\n",
      "11/11 - 0s - 16ms/step - loss: 0.1262 - val_loss: 0.0771\n",
      "Epoch 41/100\n",
      "11/11 - 0s - 21ms/step - loss: 0.1220 - val_loss: 0.0768\n",
      "Epoch 42/100\n",
      "11/11 - 0s - 15ms/step - loss: 0.1204 - val_loss: 0.0740\n",
      "Epoch 43/100\n",
      "11/11 - 0s - 15ms/step - loss: 0.1253 - val_loss: 0.0805\n",
      "Epoch 44/100\n",
      "11/11 - 0s - 15ms/step - loss: 0.1204 - val_loss: 0.0728\n",
      "Epoch 45/100\n",
      "11/11 - 0s - 17ms/step - loss: 0.1193 - val_loss: 0.0791\n",
      "Epoch 46/100\n",
      "11/11 - 0s - 14ms/step - loss: 0.1141 - val_loss: 0.0716\n",
      "Epoch 47/100\n",
      "11/11 - 0s - 14ms/step - loss: 0.1063 - val_loss: 0.0739\n",
      "Epoch 48/100\n",
      "11/11 - 0s - 15ms/step - loss: 0.0988 - val_loss: 0.0794\n",
      "Epoch 49/100\n",
      "11/11 - 0s - 15ms/step - loss: 0.1065 - val_loss: 0.0701\n",
      "Epoch 50/100\n",
      "11/11 - 0s - 16ms/step - loss: 0.0931 - val_loss: 0.0765\n",
      "Epoch 51/100\n",
      "11/11 - 0s - 14ms/step - loss: 0.1117 - val_loss: 0.0713\n",
      "Epoch 52/100\n",
      "11/11 - 0s - 13ms/step - loss: 0.1095 - val_loss: 0.0716\n",
      "Epoch 53/100\n",
      "11/11 - 0s - 15ms/step - loss: 0.1085 - val_loss: 0.0733\n",
      "Epoch 54/100\n",
      "11/11 - 0s - 15ms/step - loss: 0.1078 - val_loss: 0.0699\n",
      "Epoch 55/100\n",
      "11/11 - 0s - 18ms/step - loss: 0.1080 - val_loss: 0.0751\n",
      "Epoch 56/100\n",
      "11/11 - 0s - 14ms/step - loss: 0.1241 - val_loss: 0.0689\n",
      "Epoch 57/100\n",
      "11/11 - 0s - 20ms/step - loss: 0.1014 - val_loss: 0.0689\n",
      "Epoch 58/100\n",
      "11/11 - 0s - 18ms/step - loss: 0.1127 - val_loss: 0.0693\n",
      "Epoch 59/100\n",
      "11/11 - 0s - 16ms/step - loss: 0.1041 - val_loss: 0.0706\n",
      "Epoch 60/100\n",
      "11/11 - 0s - 17ms/step - loss: 0.1068 - val_loss: 0.0696\n",
      "Epoch 61/100\n",
      "11/11 - 0s - 17ms/step - loss: 0.1007 - val_loss: 0.0697\n",
      "Epoch 62/100\n",
      "11/11 - 0s - 15ms/step - loss: 0.0859 - val_loss: 0.0672\n",
      "Epoch 63/100\n",
      "11/11 - 0s - 15ms/step - loss: 0.1050 - val_loss: 0.0756\n",
      "Epoch 64/100\n",
      "11/11 - 0s - 15ms/step - loss: 0.0878 - val_loss: 0.0652\n",
      "Epoch 65/100\n",
      "11/11 - 0s - 16ms/step - loss: 0.1074 - val_loss: 0.0686\n",
      "Epoch 66/100\n",
      "11/11 - 0s - 15ms/step - loss: 0.0962 - val_loss: 0.0664\n",
      "Epoch 67/100\n",
      "11/11 - 0s - 18ms/step - loss: 0.0989 - val_loss: 0.0694\n",
      "Epoch 68/100\n",
      "11/11 - 0s - 19ms/step - loss: 0.0955 - val_loss: 0.0669\n",
      "Epoch 69/100\n",
      "11/11 - 0s - 15ms/step - loss: 0.1030 - val_loss: 0.0673\n",
      "Epoch 70/100\n",
      "11/11 - 0s - 15ms/step - loss: 0.0942 - val_loss: 0.0729\n",
      "Epoch 71/100\n",
      "11/11 - 0s - 14ms/step - loss: 0.0931 - val_loss: 0.0680\n",
      "Epoch 72/100\n",
      "11/11 - 0s - 15ms/step - loss: 0.0967 - val_loss: 0.0652\n",
      "Epoch 73/100\n",
      "11/11 - 0s - 17ms/step - loss: 0.1037 - val_loss: 0.0728\n",
      "Epoch 74/100\n",
      "11/11 - 0s - 17ms/step - loss: 0.0853 - val_loss: 0.0653\n",
      "Epoch 75/100\n",
      "11/11 - 0s - 14ms/step - loss: 0.0926 - val_loss: 0.0779\n",
      "Epoch 76/100\n",
      "11/11 - 0s - 14ms/step - loss: 0.0971 - val_loss: 0.0636\n",
      "Epoch 77/100\n",
      "11/11 - 0s - 16ms/step - loss: 0.0847 - val_loss: 0.0701\n",
      "Epoch 78/100\n",
      "11/11 - 0s - 20ms/step - loss: 0.0880 - val_loss: 0.0622\n",
      "Epoch 79/100\n",
      "11/11 - 0s - 15ms/step - loss: 0.0847 - val_loss: 0.0667\n",
      "Epoch 80/100\n",
      "11/11 - 0s - 13ms/step - loss: 0.0851 - val_loss: 0.0638\n",
      "Epoch 81/100\n",
      "11/11 - 0s - 16ms/step - loss: 0.0849 - val_loss: 0.0657\n",
      "Epoch 82/100\n",
      "11/11 - 0s - 15ms/step - loss: 0.0853 - val_loss: 0.0668\n",
      "Epoch 83/100\n",
      "11/11 - 0s - 14ms/step - loss: 0.0959 - val_loss: 0.0654\n",
      "Epoch 84/100\n",
      "11/11 - 0s - 15ms/step - loss: 0.0814 - val_loss: 0.0667\n",
      "Epoch 85/100\n",
      "11/11 - 0s - 17ms/step - loss: 0.0807 - val_loss: 0.0623\n",
      "Epoch 86/100\n",
      "11/11 - 0s - 15ms/step - loss: 0.0856 - val_loss: 0.0692\n",
      "Epoch 87/100\n",
      "11/11 - 0s - 14ms/step - loss: 0.0898 - val_loss: 0.0623\n",
      "Epoch 88/100\n",
      "11/11 - 0s - 14ms/step - loss: 0.0890 - val_loss: 0.0632\n",
      "Epoch 89/100\n",
      "11/11 - 0s - 16ms/step - loss: 0.0785 - val_loss: 0.0691\n",
      "Epoch 90/100\n",
      "11/11 - 0s - 15ms/step - loss: 0.0903 - val_loss: 0.0637\n",
      "Epoch 91/100\n",
      "11/11 - 0s - 16ms/step - loss: 0.0829 - val_loss: 0.0664\n",
      "Epoch 92/100\n",
      "11/11 - 0s - 16ms/step - loss: 0.0924 - val_loss: 0.0729\n",
      "Epoch 93/100\n",
      "11/11 - 0s - 16ms/step - loss: 0.0939 - val_loss: 0.0647\n",
      "Epoch 94/100\n",
      "11/11 - 0s - 14ms/step - loss: 0.0813 - val_loss: 0.0662\n",
      "Epoch 95/100\n",
      "11/11 - 0s - 15ms/step - loss: 0.0851 - val_loss: 0.0628\n",
      "Epoch 96/100\n",
      "11/11 - 0s - 15ms/step - loss: 0.0828 - val_loss: 0.0625\n",
      "Epoch 97/100\n",
      "11/11 - 0s - 15ms/step - loss: 0.0847 - val_loss: 0.0643\n",
      "Epoch 98/100\n",
      "11/11 - 0s - 14ms/step - loss: 0.0780 - val_loss: 0.0671\n",
      "Epoch 99/100\n",
      "11/11 - 0s - 18ms/step - loss: 0.0837 - val_loss: 0.0650\n",
      "Epoch 100/100\n",
      "11/11 - 0s - 20ms/step - loss: 0.0869 - val_loss: 0.0695\n"
     ]
    }
   ],
   "source": [
    "#Treinamento do Modello\n",
    "validation = model.fit(X_train, Y_train, validation_data=(X_test, Y_test), epochs=100, batch_size=15, verbose=2)"
   ]
  },
  {
   "cell_type": "code",
   "execution_count": 47,
   "metadata": {},
   "outputs": [
    {
     "data": {
      "text/plain": [
       "<matplotlib.legend.Legend at 0x20f829add50>"
      ]
     },
     "execution_count": 47,
     "metadata": {},
     "output_type": "execute_result"
    },
    {
     "data": {
      "image/png": "[encoded data removed]",
      "text/plain": [
       "<Figure size 640x480 with 1 Axes>"
      ]
     },
     "metadata": {},
     "output_type": "display_data"
    }
   ],
   "source": [
    "plt.plot(validation.history['loss'], label='Training Loss')\n",
    "plt.plot(validation.history['val_loss'], label='Validation Loss')\n",
    "plt.legend()"
   ]
  },
  {
   "cell_type": "code",
   "execution_count": 50,
   "metadata": {},
   "outputs": [
    {
     "name": "stdout",
     "output_type": "stream",
     "text": [
      "\u001b[1m2/2\u001b[0m \u001b[32m━━━━━━━━━━━━━━━━━━━━\u001b[0m\u001b[37m\u001b[0m \u001b[1m0s\u001b[0m 10ms/step\n"
     ]
    },
    {
     "data": {
      "text/plain": [
       "array([[22.669882],\n",
       "       [22.580963],\n",
       "       [22.643732],\n",
       "       [22.590563],\n",
       "       [22.524931],\n",
       "       [22.416868],\n",
       "       [22.395445],\n",
       "       [22.33972 ],\n",
       "       [22.24794 ],\n",
       "       [22.316309],\n",
       "       [22.571041],\n",
       "       [22.822458],\n",
       "       [22.896889],\n",
       "       [22.805285],\n",
       "       [22.573853],\n",
       "       [22.291327],\n",
       "       [21.93715 ],\n",
       "       [21.617712],\n",
       "       [21.467659],\n",
       "       [21.547592],\n",
       "       [21.497326],\n",
       "       [21.429909],\n",
       "       [21.172913],\n",
       "       [20.898752],\n",
       "       [20.754951],\n",
       "       [20.813852],\n",
       "       [20.8858  ],\n",
       "       [20.805958],\n",
       "       [20.677078],\n",
       "       [20.49324 ],\n",
       "       [20.316973],\n",
       "       [20.094177],\n",
       "       [19.80985 ],\n",
       "       [19.545525],\n",
       "       [19.31194 ],\n",
       "       [19.125729],\n",
       "       [18.99782 ],\n",
       "       [18.90974 ],\n",
       "       [18.84962 ],\n",
       "       [18.812864],\n",
       "       [18.805407],\n",
       "       [18.808855],\n",
       "       [18.823353],\n",
       "       [18.852335],\n",
       "       [18.886875],\n",
       "       [18.923527],\n",
       "       [18.954548],\n",
       "       [18.995348],\n",
       "       [19.090755],\n",
       "       [19.22077 ],\n",
       "       [19.371876],\n",
       "       [19.604334],\n",
       "       [19.837692],\n",
       "       [20.063122],\n",
       "       [20.40368 ],\n",
       "       [20.873148],\n",
       "       [21.209625],\n",
       "       [21.23846 ]], dtype=float32)"
      ]
     },
     "execution_count": 50,
     "metadata": {},
     "output_type": "execute_result"
    }
   ],
   "source": [
    "#Fazendo a previsão\n",
    "prev = model.predict(X_test)\n",
    "prev = scaler.inverse_transform(prev)\n",
    "prev"
   ]
  },
  {
   "cell_type": "code",
   "execution_count": 56,
   "metadata": {},
   "outputs": [
    {
     "data": {
      "text/plain": [
       "[-1.2968220016410186,\n",
       " -1.1100259205392866,\n",
       " -0.8691572896449464,\n",
       " -0.6626984631640852,\n",
       " -0.7315180719910378,\n",
       " -0.8691572896449464,\n",
       " -0.5545533635788705,\n",
       " -0.6971082675775606,\n",
       " -0.5742161089579998,\n",
       " -0.20062394675453596,\n",
       " -0.14163571061714628,\n",
       " -0.3186004190293136,\n",
       " -0.628288658750608,\n",
       " -0.9478082711614655,\n",
       " -0.8937357213688589]"
      ]
     },
     "execution_count": 56,
     "metadata": {},
     "output_type": "execute_result"
    }
   ],
   "source": [
    "#previsao para os proximos 10 dias\n",
    "length_test = len(test)\n",
    "days_input_steps = length_test - steps \n",
    "#transforma em array\n",
    "input_steps = test[days_input_steps:]\n",
    "input_steps = np.array(input_steps).reshape(1, -1)\n",
    "#transformar em lista\n",
    "list_output_steps = list(input_steps)\n",
    "list_output_steps = list_output_steps[0].tolist()\n"
   ]
  },
  {
   "cell_type": "code",
   "execution_count": 59,
   "metadata": {},
   "outputs": [
    {
     "name": "stdout",
     "output_type": "stream",
     "text": [
      "0 dia. Valores de entrada -> [-0.86915729 -0.66269846 -0.73151807 -0.86915729 -0.55455336 -0.69710827\n",
      " -0.57421611 -0.20062395 -0.14163571 -0.31860042 -0.62828866 -0.94780827\n",
      " -0.89373572 -0.4411768  -0.58333039]\n",
      "0 dia. Valor Previsto -> [[-0.66771626]]\n",
      "1 dia. Valores de entrada -> [-0.66269846 -0.73151807 -0.86915729 -0.55455336 -0.69710827 -0.57421611\n",
      " -0.20062395 -0.14163571 -0.31860042 -0.62828866 -0.94780827 -0.89373572\n",
      " -0.4411768  -0.58333039 -0.66771626]\n",
      "1 dia. Valor Previsto -> [[-0.7190397]]\n",
      "2 dia. Valores de entrada -> [-0.73151807 -0.86915729 -0.55455336 -0.69710827 -0.57421611 -0.20062395\n",
      " -0.14163571 -0.31860042 -0.62828866 -0.94780827 -0.89373572 -0.4411768\n",
      " -0.58333039 -0.66771626 -0.71903968]\n",
      "2 dia. Valor Previsto -> [[-0.75463104]]\n",
      "3 dia. Valores de entrada -> [-0.86915729 -0.55455336 -0.69710827 -0.57421611 -0.20062395 -0.14163571\n",
      " -0.31860042 -0.62828866 -0.94780827 -0.89373572 -0.4411768  -0.58333039\n",
      " -0.66771626 -0.71903968 -0.75463104]\n",
      "3 dia. Valor Previsto -> [[-0.7879952]]\n",
      "4 dia. Valores de entrada -> [-0.55455336 -0.69710827 -0.57421611 -0.20062395 -0.14163571 -0.31860042\n",
      " -0.62828866 -0.94780827 -0.89373572 -0.4411768  -0.58333039 -0.66771626\n",
      " -0.71903968 -0.75463104 -0.78799522]\n",
      "4 dia. Valor Previsto -> [[-0.8192313]]\n",
      "5 dia. Valores de entrada -> [-0.69710827 -0.57421611 -0.20062395 -0.14163571 -0.31860042 -0.62828866\n",
      " -0.94780827 -0.89373572 -0.4411768  -0.58333039 -0.66771626 -0.71903968\n",
      " -0.75463104 -0.78799522 -0.81923127]\n",
      "5 dia. Valor Previsto -> [[-0.8380482]]\n",
      "6 dia. Valores de entrada -> [-0.57421611 -0.20062395 -0.14163571 -0.31860042 -0.62828866 -0.94780827\n",
      " -0.89373572 -0.4411768  -0.58333039 -0.66771626 -0.71903968 -0.75463104\n",
      " -0.78799522 -0.81923127 -0.83804822]\n",
      "6 dia. Valor Previsto -> [[-0.8570529]]\n",
      "7 dia. Valores de entrada -> [-0.20062395 -0.14163571 -0.31860042 -0.62828866 -0.94780827 -0.89373572\n",
      " -0.4411768  -0.58333039 -0.66771626 -0.71903968 -0.75463104 -0.78799522\n",
      " -0.81923127 -0.83804822 -0.85705292]\n",
      "7 dia. Valor Previsto -> [[-0.86922944]]\n",
      "8 dia. Valores de entrada -> [-0.14163571 -0.31860042 -0.62828866 -0.94780827 -0.89373572 -0.4411768\n",
      " -0.58333039 -0.66771626 -0.71903968 -0.75463104 -0.78799522 -0.81923127\n",
      " -0.83804822 -0.85705292 -0.86922944]\n",
      "8 dia. Valor Previsto -> [[-0.8745687]]\n",
      "9 dia. Valores de entrada -> [-0.31860042 -0.62828866 -0.94780827 -0.89373572 -0.4411768  -0.58333039\n",
      " -0.66771626 -0.71903968 -0.75463104 -0.78799522 -0.81923127 -0.83804822\n",
      " -0.85705292 -0.86922944 -0.8745687 ]\n",
      "9 dia. Valor Previsto -> [[-0.8797642]]\n",
      "[[-0.6677162647247314], [-0.7190396785736084], [-0.7546310424804688], [-0.7879952192306519], [-0.8192312717437744], [-0.8380482196807861], [-0.8570529222488403], [-0.8692294359207153], [-0.8745687007904053], [-0.879764199256897]]\n"
     ]
    }
   ],
   "source": [
    "#loop para prever os proximos 10 dias\n",
    "pred_output = []\n",
    "i = 0\n",
    "n_future = 10\n",
    "while (i < n_future):\n",
    "\n",
    "    if(len(list_output_steps) > steps):\n",
    "        input_steps = np.array(list_output_steps[1:])\n",
    "        print(f\"{i} dia. Valores de entrada -> {input_steps}\")\n",
    "        input_steps = input_steps.reshape(1, -1)\n",
    "        input_steps = input_steps.reshape(( 1, steps, 1))\n",
    "        pred = model.predict(input_steps, verbose = 0)\n",
    "        print(f\"{i} dia. Valor Previsto -> {pred}\")\n",
    "        list_output_steps.extend(pred[0].tolist())\n",
    "        list_output_steps = list_output_steps[1:]\n",
    "        pred_output.extend(pred.tolist())\n",
    "        i += 1\n",
    "    else:\n",
    "        input_steps = input_steps.reshape((1, steps, 1))\n",
    "        pred = model.predict(input_steps, verbose=0)\n",
    "        print(pred[0])\n",
    "        list_output_steps.extend(pred[0].tolist())\n",
    "        print(len(list_output_steps))\n",
    "        pred_output.extend(pred.tolist())\n",
    "        i += 1\n",
    "print(pred_output)"
   ]
  },
  {
   "cell_type": "code",
   "execution_count": 63,
   "metadata": {},
   "outputs": [
    {
     "data": {
      "text/plain": [
       "[19.97979226661609,\n",
       " 19.87538484464265,\n",
       " 19.80298119353371,\n",
       " 19.735108317987866,\n",
       " 19.671564693919425,\n",
       " 19.633285302971334,\n",
       " 19.594623962041343,\n",
       " 19.5698532325484,\n",
       " 19.558991545094813,\n",
       " 19.548422322198793]"
      ]
     },
     "execution_count": 63,
     "metadata": {},
     "output_type": "execute_result"
    }
   ],
   "source": [
    "#Transforma a saida\n",
    "prev = scaler.inverse_transform(pred_output)\n",
    "prev = np.array(prev).reshape(1, -1)\n",
    "list_output_prev = prev[0].tolist()\n",
    "list_output_prev"
   ]
  },
  {
   "cell_type": "code",
   "execution_count": 65,
   "metadata": {},
   "outputs": [
    {
     "data": {
      "text/plain": [
       "DatetimeIndex(['2012-12-31', '2013-01-01', '2013-01-02', '2013-01-03',\n",
       "               '2013-01-04', '2013-01-07', '2013-01-08', '2013-01-09',\n",
       "               '2013-01-10', '2013-01-11'],\n",
       "              dtype='datetime64[ns]', freq='B')"
      ]
     },
     "execution_count": 65,
     "metadata": {},
     "output_type": "execute_result"
    }
   ],
   "source": [
    "df_petro = b3DF[ b3DF['sigla_acao'] == 'PETR4']\n",
    "df_petro = df_petro.set_index(pd.DatetimeIndex(df_petro['data_pregao'].values))\n",
    "\n",
    "dates = pd.to_datetime(df_petro['data_pregao'])\n",
    "predict_dates = pd.date_range(list(dates)[-1] + pd.DateOffset(1), periods=10, freq='b')\n",
    "predict_dates"
   ]
  },
  {
   "cell_type": "code",
   "execution_count": 66,
   "metadata": {},
   "outputs": [
    {
     "data": {
      "text/html": [
       "<div>\n",
       "<style scoped>\n",
       "    .dataframe tbody tr th:only-of-type {\n",
       "        vertical-align: middle;\n",
       "    }\n",
       "\n",
       "    .dataframe tbody tr th {\n",
       "        vertical-align: top;\n",
       "    }\n",
       "\n",
       "    .dataframe thead th {\n",
       "        text-align: right;\n",
       "    }\n",
       "</style>\n",
       "<table border=\"1\" class=\"dataframe\">\n",
       "  <thead>\n",
       "    <tr style=\"text-align: right;\">\n",
       "      <th></th>\n",
       "      <th>preco_fechamento</th>\n",
       "    </tr>\n",
       "  </thead>\n",
       "  <tbody>\n",
       "    <tr>\n",
       "      <th>2012-12-31</th>\n",
       "      <td>19.979792</td>\n",
       "    </tr>\n",
       "    <tr>\n",
       "      <th>2013-01-01</th>\n",
       "      <td>19.875385</td>\n",
       "    </tr>\n",
       "    <tr>\n",
       "      <th>2013-01-02</th>\n",
       "      <td>19.802981</td>\n",
       "    </tr>\n",
       "    <tr>\n",
       "      <th>2013-01-03</th>\n",
       "      <td>19.735108</td>\n",
       "    </tr>\n",
       "    <tr>\n",
       "      <th>2013-01-04</th>\n",
       "      <td>19.671565</td>\n",
       "    </tr>\n",
       "    <tr>\n",
       "      <th>2013-01-07</th>\n",
       "      <td>19.633285</td>\n",
       "    </tr>\n",
       "    <tr>\n",
       "      <th>2013-01-08</th>\n",
       "      <td>19.594624</td>\n",
       "    </tr>\n",
       "    <tr>\n",
       "      <th>2013-01-09</th>\n",
       "      <td>19.569853</td>\n",
       "    </tr>\n",
       "    <tr>\n",
       "      <th>2013-01-10</th>\n",
       "      <td>19.558992</td>\n",
       "    </tr>\n",
       "    <tr>\n",
       "      <th>2013-01-11</th>\n",
       "      <td>19.548422</td>\n",
       "    </tr>\n",
       "  </tbody>\n",
       "</table>\n",
       "</div>"
      ],
      "text/plain": [
       "            preco_fechamento\n",
       "2012-12-31         19.979792\n",
       "2013-01-01         19.875385\n",
       "2013-01-02         19.802981\n",
       "2013-01-03         19.735108\n",
       "2013-01-04         19.671565\n",
       "2013-01-07         19.633285\n",
       "2013-01-08         19.594624\n",
       "2013-01-09         19.569853\n",
       "2013-01-10         19.558992\n",
       "2013-01-11         19.548422"
      ]
     },
     "execution_count": 66,
     "metadata": {},
     "output_type": "execute_result"
    }
   ],
   "source": [
    "#cria o dataframe de previsao\n",
    "\n",
    "forecast_dates = []\n",
    "for i in predict_dates:\n",
    "    forecast_dates.append(i.date())\n",
    "\n",
    "df_forecast = pd.DataFrame({'data_pregao': np.array(forecast_dates), 'preco_fechamento': list_output_prev})\n",
    "df_forecast['data_pregao'] = pd.to_datetime(df_forecast['data_pregao'])\n",
    "df_forecast = df_forecast.set_index(pd.DatetimeIndex(df_forecast['data_pregao'].values))\n",
    "df_forecast.drop('data_pregao', axis = 1, inplace=True )\n",
    "df_forecast"
   ]
  },
  {
   "cell_type": "code",
   "execution_count": 68,
   "metadata": {},
   "outputs": [
    {
     "data": {
      "image/png": "[encoded data removed]",
      "text/plain": [
       "<Figure size 1600x800 with 1 Axes>"
      ]
     },
     "metadata": {},
     "output_type": "display_data"
    }
   ],
   "source": [
    "#plotar o gráfico\n",
    "plt.figure(figsize=(16,8))\n",
    "plt.plot(df_petro['fechamento'])\n",
    "plt.plot(df_forecast['preco_fechamento'])\n",
    "plt.legend(['Preco de Fechamento', 'Preco previsto'])\n",
    "plt.show()"
   ]
  },
  {
   "cell_type": "markdown",
   "metadata": {},
   "source": [
    "### Linear Regression Model"
   ]
  },
  {
   "cell_type": "markdown",
   "metadata": {},
   "source": [
    "#### Output model"
   ]
  },
  {
   "cell_type": "code",
   "execution_count": 49,
   "metadata": {},
   "outputs": [
    {
     "data": {
      "text/plain": [
       "['./output/modelLinearBrazil.pkl']"
      ]
     },
     "execution_count": 49,
     "metadata": {},
     "output_type": "execute_result"
    }
   ],
   "source": [
    "import joblib\n",
    "\n",
    "joblib.dump(model, './output/modelLinearBrazil.pkl')"
   ]
  },
  {
   "cell_type": "markdown",
   "metadata": {},
   "source": [
    "# Running Streamlit"
   ]
  },
  {
   "cell_type": "markdown",
   "metadata": {},
   "source": [
    "streamlit run streamlit/app.py"
   ]
  }
 ],
 "metadata": {
  "kernelspec": {
   "display_name": "env",
   "language": "python",
   "name": "python3"
  },
  "language_info": {
   "codemirror_mode": {
    "name": "ipython",
    "version": 3
   },
   "file_extension": ".py",
   "mimetype": "text/x-python",
   "name": "python",
   "nbconvert_exporter": "python",
   "pygments_lexer": "ipython3",
   "version": "3.10.11"
  }
 },
 "nbformat": 4,
 "nbformat_minor": 2
}
